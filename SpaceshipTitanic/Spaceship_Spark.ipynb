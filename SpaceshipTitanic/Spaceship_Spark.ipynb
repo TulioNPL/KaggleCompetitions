{
 "cells": [
  {
   "cell_type": "markdown",
   "metadata": {},
   "source": [
    "# Pre processing"
   ]
  },
  {
   "cell_type": "code",
   "execution_count": 15,
   "metadata": {},
   "outputs": [],
   "source": [
    "import numpy as np # linear algebra\n",
    "import pandas as pd # data processing, CSV file I/O (e.g. pd.read_csv)\n",
    "from pyspark.sql import SparkSession"
   ]
  },
  {
   "cell_type": "code",
   "execution_count": 16,
   "metadata": {},
   "outputs": [],
   "source": [
    "spark = SparkSession.builder.appName('Spaceship').getOrCreate()"
   ]
  },
  {
   "cell_type": "code",
   "execution_count": 17,
   "metadata": {},
   "outputs": [
    {
     "name": "stdout",
     "output_type": "stream",
     "text": [
      "+-----------+----------+---------+-----+-------------+----+-----+-----------+---------+------------+------+------+------------------+-----------+\n",
      "|PassengerId|HomePlanet|CryoSleep|Cabin|  Destination| Age|  VIP|RoomService|FoodCourt|ShoppingMall|   Spa|VRDeck|              Name|Transported|\n",
      "+-----------+----------+---------+-----+-------------+----+-----+-----------+---------+------------+------+------+------------------+-----------+\n",
      "|    0001_01|    Europa|    false|B/0/P|  TRAPPIST-1e|39.0|false|        0.0|      0.0|         0.0|   0.0|   0.0|   Maham Ofracculy|      false|\n",
      "|    0002_01|     Earth|    false|F/0/S|  TRAPPIST-1e|24.0|false|      109.0|      9.0|        25.0| 549.0|  44.0|      Juanna Vines|       true|\n",
      "|    0003_01|    Europa|    false|A/0/S|  TRAPPIST-1e|58.0| true|       43.0|   3576.0|         0.0|6715.0|  49.0|     Altark Susent|      false|\n",
      "|    0003_02|    Europa|    false|A/0/S|  TRAPPIST-1e|33.0|false|        0.0|   1283.0|       371.0|3329.0| 193.0|      Solam Susent|      false|\n",
      "|    0004_01|     Earth|    false|F/1/S|  TRAPPIST-1e|16.0|false|      303.0|     70.0|       151.0| 565.0|   2.0| Willy Santantines|       true|\n",
      "|    0005_01|     Earth|    false|F/0/P|PSO J318.5-22|44.0|false|        0.0|    483.0|         0.0| 291.0|   0.0| Sandie Hinetthews|       true|\n",
      "|    0006_01|     Earth|    false|F/2/S|  TRAPPIST-1e|26.0|false|       42.0|   1539.0|         3.0|   0.0|   0.0|Billex Jacostaffey|       true|\n",
      "|    0006_02|     Earth|     true|G/0/S|  TRAPPIST-1e|28.0|false|        0.0|      0.0|         0.0|   0.0|  NULL|Candra Jacostaffey|       true|\n",
      "|    0007_01|     Earth|    false|F/3/S|  TRAPPIST-1e|35.0|false|        0.0|    785.0|        17.0| 216.0|   0.0|     Andona Beston|       true|\n",
      "|    0008_01|    Europa|     true|B/1/P|  55 Cancri e|14.0|false|        0.0|      0.0|         0.0|   0.0|   0.0|    Erraiam Flatic|       true|\n",
      "|    0008_02|    Europa|     true|B/1/P|  TRAPPIST-1e|34.0|false|        0.0|      0.0|        NULL|   0.0|   0.0|    Altardr Flatic|       true|\n",
      "|    0008_03|    Europa|    false|B/1/P|  55 Cancri e|45.0|false|       39.0|   7295.0|       589.0| 110.0| 124.0|     Wezena Flatic|       true|\n",
      "|    0009_01|      Mars|    false|F/1/P|  TRAPPIST-1e|32.0|false|       73.0|      0.0|      1123.0|   0.0| 113.0|      Berers Barne|       true|\n",
      "|    0010_01|     Earth|    false|G/1/S|  TRAPPIST-1e|48.0|false|      719.0|      1.0|        65.0|   0.0|  24.0|    Reney Baketton|      false|\n",
      "|    0011_01|     Earth|    false|F/2/P|  TRAPPIST-1e|28.0|false|        8.0|    974.0|        12.0|   2.0|   7.0|   Elle Bertsontry|       true|\n",
      "|    0012_01|     Earth|    false| NULL|  TRAPPIST-1e|31.0|false|       32.0|      0.0|       876.0|   0.0|   0.0|     Justie Pooles|      false|\n",
      "|    0014_01|      Mars|    false|F/3/P|  55 Cancri e|27.0|false|     1286.0|    122.0|        NULL|   0.0|   0.0|       Flats Eccle|      false|\n",
      "|    0015_01|     Earth|    false|F/4/P|  55 Cancri e|24.0|false|        0.0|      1.0|         0.0|   0.0| 637.0|   Carry Hughriend|      false|\n",
      "|    0016_01|      Mars|     true|F/5/P|  TRAPPIST-1e|45.0|false|        0.0|      0.0|         0.0|   0.0|   0.0|        Alus Upead|       true|\n",
      "|    0017_01|     Earth|    false|G/0/P|  TRAPPIST-1e| 0.0|false|        0.0|      0.0|         0.0|   0.0|   0.0|     Lyde Brighttt|       true|\n",
      "+-----------+----------+---------+-----+-------------+----+-----+-----------+---------+------------+------+------+------------------+-----------+\n",
      "only showing top 20 rows\n",
      "\n"
     ]
    }
   ],
   "source": [
    "train_data = spark.read.csv(\"train.csv\", inferSchema=True, header=True)\n",
    "validation_data = spark.read.csv(\"test.csv\", inferSchema=True, header=True)\n",
    "\n",
    "train_data.show()"
   ]
  },
  {
   "cell_type": "code",
   "execution_count": 20,
   "metadata": {},
   "outputs": [
    {
     "name": "stdout",
     "output_type": "stream",
     "text": [
      "+-----------+----------+---------+-----+-------------+----+-----+-----------+---------+------------+------+------+------------------+-----------+\n",
      "|PassengerId|HomePlanet|CryoSleep|Cabin|  Destination| Age|  VIP|RoomService|FoodCourt|ShoppingMall|   Spa|VRDeck|              Name|Transported|\n",
      "+-----------+----------+---------+-----+-------------+----+-----+-----------+---------+------------+------+------+------------------+-----------+\n",
      "|    0001_01|    Europa|    false|B/0/P|  TRAPPIST-1e|39.0|false|        0.0|      0.0|         0.0|   0.0|   0.0|   Maham Ofracculy|      false|\n",
      "|    0002_01|     Earth|    false|F/0/S|  TRAPPIST-1e|24.0|false|      109.0|      9.0|        25.0| 549.0|  44.0|      Juanna Vines|       true|\n",
      "|    0003_01|    Europa|    false|A/0/S|  TRAPPIST-1e|58.0| true|       43.0|   3576.0|         0.0|6715.0|  49.0|     Altark Susent|      false|\n",
      "|    0003_02|    Europa|    false|A/0/S|  TRAPPIST-1e|33.0|false|        0.0|   1283.0|       371.0|3329.0| 193.0|      Solam Susent|      false|\n",
      "|    0004_01|     Earth|    false|F/1/S|  TRAPPIST-1e|16.0|false|      303.0|     70.0|       151.0| 565.0|   2.0| Willy Santantines|       true|\n",
      "|    0005_01|     Earth|    false|F/0/P|PSO J318.5-22|44.0|false|        0.0|    483.0|         0.0| 291.0|   0.0| Sandie Hinetthews|       true|\n",
      "|    0006_01|     Earth|    false|F/2/S|  TRAPPIST-1e|26.0|false|       42.0|   1539.0|         3.0|   0.0|   0.0|Billex Jacostaffey|       true|\n",
      "|    0006_02|     Earth|     true|G/0/S|  TRAPPIST-1e|28.0|false|        0.0|      0.0|         0.0|   0.0|   0.0|Candra Jacostaffey|       true|\n",
      "|    0007_01|     Earth|    false|F/3/S|  TRAPPIST-1e|35.0|false|        0.0|    785.0|        17.0| 216.0|   0.0|     Andona Beston|       true|\n",
      "|    0008_01|    Europa|     true|B/1/P|  55 Cancri e|14.0|false|        0.0|      0.0|         0.0|   0.0|   0.0|    Erraiam Flatic|       true|\n",
      "|    0008_02|    Europa|     true|B/1/P|  TRAPPIST-1e|34.0|false|        0.0|      0.0|         0.0|   0.0|   0.0|    Altardr Flatic|       true|\n",
      "|    0008_03|    Europa|    false|B/1/P|  55 Cancri e|45.0|false|       39.0|   7295.0|       589.0| 110.0| 124.0|     Wezena Flatic|       true|\n",
      "|    0009_01|      Mars|    false|F/1/P|  TRAPPIST-1e|32.0|false|       73.0|      0.0|      1123.0|   0.0| 113.0|      Berers Barne|       true|\n",
      "|    0010_01|     Earth|    false|G/1/S|  TRAPPIST-1e|48.0|false|      719.0|      1.0|        65.0|   0.0|  24.0|    Reney Baketton|      false|\n",
      "|    0011_01|     Earth|    false|F/2/P|  TRAPPIST-1e|28.0|false|        8.0|    974.0|        12.0|   2.0|   7.0|   Elle Bertsontry|       true|\n",
      "|    0012_01|     Earth|    false|  /0/|  TRAPPIST-1e|31.0|false|       32.0|      0.0|       876.0|   0.0|   0.0|     Justie Pooles|      false|\n",
      "|    0014_01|      Mars|    false|F/3/P|  55 Cancri e|27.0|false|     1286.0|    122.0|         0.0|   0.0|   0.0|       Flats Eccle|      false|\n",
      "|    0015_01|     Earth|    false|F/4/P|  55 Cancri e|24.0|false|        0.0|      1.0|         0.0|   0.0| 637.0|   Carry Hughriend|      false|\n",
      "|    0016_01|      Mars|     true|F/5/P|  TRAPPIST-1e|45.0|false|        0.0|      0.0|         0.0|   0.0|   0.0|        Alus Upead|       true|\n",
      "|    0017_01|     Earth|    false|G/0/P|  TRAPPIST-1e| 0.0|false|        0.0|      0.0|         0.0|   0.0|   0.0|     Lyde Brighttt|       true|\n",
      "+-----------+----------+---------+-----+-------------+----+-----+-----------+---------+------------+------+------+------------------+-----------+\n",
      "only showing top 20 rows\n",
      "\n"
     ]
    }
   ],
   "source": [
    "fillna_values = {'CryoSleep': False, \n",
    "                  'VIP': False,\n",
    "                  'Age': 0,\n",
    "                  'VRDeck': 0,\n",
    "                  'Cabin': '/0/',\n",
    "                  'Destination': '',\n",
    "                  'ShoppingMall': 0,\n",
    "                  'Name': '',\n",
    "                  'RoomService': 0,\n",
    "                  'FoodCourt': 0,\n",
    "                  'HomePlanet': '',\n",
    "                  'Spa': 0}\n",
    "\n",
    "validation_data = validation_data.fillna(value=fillna_values)\n",
    "train_data = train_data.fillna(value=fillna_values)\n",
    "train_data.show()"
   ]
  },
  {
   "cell_type": "code",
   "execution_count": 29,
   "metadata": {},
   "outputs": [
    {
     "name": "stdout",
     "output_type": "stream",
     "text": [
      "8693\n",
      "4277\n"
     ]
    }
   ],
   "source": [
    "print(train_data.count())\n",
    "print(validation_data.count())"
   ]
  },
  {
   "cell_type": "markdown",
   "metadata": {},
   "source": [
    "### Create deck, num, side columns"
   ]
  },
  {
   "cell_type": "code",
   "execution_count": 30,
   "metadata": {},
   "outputs": [],
   "source": [
    "from pyspark.sql.functions import split\n",
    "\n",
    "split_col = split(train_data['Cabin'], '/')\n",
    "train_data = train_data.withColumn('Deck', split_col.getItem(0)) \\\n",
    "       .withColumn('Num', split_col.getItem(1)) \\\n",
    "       .withColumn('Side', split_col.getItem(2))\n",
    "\n",
    "split_col = split(validation_data['Cabin'], '/')\n",
    "validation_data = validation_data.withColumn('Deck', split_col.getItem(0)) \\\n",
    "       .withColumn('Num', split_col.getItem(1)) \\\n",
    "       .withColumn('Side', split_col.getItem(2))"
   ]
  },
  {
   "cell_type": "markdown",
   "metadata": {},
   "source": [
    "### Create passenger group column"
   ]
  },
  {
   "cell_type": "code",
   "execution_count": null,
   "metadata": {},
   "outputs": [],
   "source": []
  }
 ],
 "metadata": {
  "kernelspec": {
   "display_name": "dsfs",
   "language": "python",
   "name": "python3"
  },
  "language_info": {
   "codemirror_mode": {
    "name": "ipython",
    "version": 3
   },
   "file_extension": ".py",
   "mimetype": "text/x-python",
   "name": "python",
   "nbconvert_exporter": "python",
   "pygments_lexer": "ipython3",
   "version": "3.9.18"
  }
 },
 "nbformat": 4,
 "nbformat_minor": 2
}
